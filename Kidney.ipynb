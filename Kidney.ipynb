{
 "cells": [
  {
   "cell_type": "code",
   "execution_count": 12,
   "metadata": {
    "id": "w8GP1DqAHcAl"
   },
   "outputs": [],
   "source": [
    "import numpy as np\n",
    "import pandas as pd\n",
    "import matplotlib.pyplot as plt\n",
    "import seaborn as sns\n",
    "from matplotlib.pyplot import figure\n",
    "from sklearn.metrics import confusion_matrix\n",
    "from sklearn.neighbors import KNeighborsClassifier\n",
    "from sklearn.svm import SVC\n",
    "from sklearn.ensemble import RandomForestClassifier\n",
    "from sklearn.tree import DecisionTreeClassifier\n",
    "from sklearn.linear_model import LogisticRegression\n",
    "import pickle\n",
    "import sklearn\n",
    "import scipy\n",
    "\n",
    " \n",
    "sns.set()"
   ]
  },
  {
   "cell_type": "code",
   "execution_count": 13,
   "metadata": {
    "id": "uehS5Lm3H1a0"
   },
   "outputs": [],
   "source": [
    "dataset1 = pd.read_csv('kidney_dataset.csv')"
   ]
  },
  {
   "cell_type": "code",
   "execution_count": 14,
   "metadata": {
    "colab": {
     "base_uri": "https://localhost:8080/"
    },
    "id": "lXjjgvtMIJZF",
    "outputId": "79d41e24-f510-4f8c-a67d-182e249a0df0"
   },
   "outputs": [
    {
     "data": {
      "text/plain": [
       "(158, 25)"
      ]
     },
     "execution_count": 14,
     "metadata": {},
     "output_type": "execute_result"
    }
   ],
   "source": [
    "dataset1.shape"
   ]
  },
  {
   "cell_type": "code",
   "execution_count": 15,
   "metadata": {
    "colab": {
     "base_uri": "https://localhost:8080/",
     "height": 359
    },
    "id": "HjzNeu8jISoZ",
    "outputId": "8808c7cb-d109-40ae-b4fc-607c4ac14d2d"
   },
   "outputs": [
    {
     "data": {
      "text/html": [
       "<div>\n",
       "<style scoped>\n",
       "    .dataframe tbody tr th:only-of-type {\n",
       "        vertical-align: middle;\n",
       "    }\n",
       "\n",
       "    .dataframe tbody tr th {\n",
       "        vertical-align: top;\n",
       "    }\n",
       "\n",
       "    .dataframe thead th {\n",
       "        text-align: right;\n",
       "    }\n",
       "</style>\n",
       "<table border=\"1\" class=\"dataframe\">\n",
       "  <thead>\n",
       "    <tr style=\"text-align: right;\">\n",
       "      <th></th>\n",
       "      <th>age</th>\n",
       "      <th>bp</th>\n",
       "      <th>sg</th>\n",
       "      <th>al</th>\n",
       "      <th>su</th>\n",
       "      <th>rbc</th>\n",
       "      <th>pc</th>\n",
       "      <th>pcc</th>\n",
       "      <th>ba</th>\n",
       "      <th>bgr</th>\n",
       "      <th>...</th>\n",
       "      <th>pcv</th>\n",
       "      <th>wc</th>\n",
       "      <th>rc</th>\n",
       "      <th>htn</th>\n",
       "      <th>dm</th>\n",
       "      <th>cad</th>\n",
       "      <th>appet</th>\n",
       "      <th>pe</th>\n",
       "      <th>ane</th>\n",
       "      <th>class</th>\n",
       "    </tr>\n",
       "  </thead>\n",
       "  <tbody>\n",
       "    <tr>\n",
       "      <th>0</th>\n",
       "      <td>48</td>\n",
       "      <td>70</td>\n",
       "      <td>1.005</td>\n",
       "      <td>4</td>\n",
       "      <td>0</td>\n",
       "      <td>0</td>\n",
       "      <td>1</td>\n",
       "      <td>1</td>\n",
       "      <td>0</td>\n",
       "      <td>117</td>\n",
       "      <td>...</td>\n",
       "      <td>32</td>\n",
       "      <td>6700</td>\n",
       "      <td>3.9</td>\n",
       "      <td>1</td>\n",
       "      <td>0</td>\n",
       "      <td>0</td>\n",
       "      <td>0</td>\n",
       "      <td>1</td>\n",
       "      <td>1</td>\n",
       "      <td>1</td>\n",
       "    </tr>\n",
       "    <tr>\n",
       "      <th>1</th>\n",
       "      <td>53</td>\n",
       "      <td>90</td>\n",
       "      <td>1.020</td>\n",
       "      <td>2</td>\n",
       "      <td>0</td>\n",
       "      <td>1</td>\n",
       "      <td>1</td>\n",
       "      <td>1</td>\n",
       "      <td>0</td>\n",
       "      <td>70</td>\n",
       "      <td>...</td>\n",
       "      <td>29</td>\n",
       "      <td>12100</td>\n",
       "      <td>3.7</td>\n",
       "      <td>1</td>\n",
       "      <td>1</td>\n",
       "      <td>0</td>\n",
       "      <td>0</td>\n",
       "      <td>0</td>\n",
       "      <td>1</td>\n",
       "      <td>1</td>\n",
       "    </tr>\n",
       "    <tr>\n",
       "      <th>2</th>\n",
       "      <td>63</td>\n",
       "      <td>70</td>\n",
       "      <td>1.010</td>\n",
       "      <td>3</td>\n",
       "      <td>0</td>\n",
       "      <td>1</td>\n",
       "      <td>1</td>\n",
       "      <td>1</td>\n",
       "      <td>0</td>\n",
       "      <td>380</td>\n",
       "      <td>...</td>\n",
       "      <td>32</td>\n",
       "      <td>4500</td>\n",
       "      <td>3.8</td>\n",
       "      <td>1</td>\n",
       "      <td>1</td>\n",
       "      <td>0</td>\n",
       "      <td>0</td>\n",
       "      <td>1</td>\n",
       "      <td>0</td>\n",
       "      <td>1</td>\n",
       "    </tr>\n",
       "    <tr>\n",
       "      <th>3</th>\n",
       "      <td>68</td>\n",
       "      <td>80</td>\n",
       "      <td>1.010</td>\n",
       "      <td>3</td>\n",
       "      <td>2</td>\n",
       "      <td>0</td>\n",
       "      <td>1</td>\n",
       "      <td>1</td>\n",
       "      <td>1</td>\n",
       "      <td>157</td>\n",
       "      <td>...</td>\n",
       "      <td>16</td>\n",
       "      <td>11000</td>\n",
       "      <td>2.6</td>\n",
       "      <td>1</td>\n",
       "      <td>1</td>\n",
       "      <td>1</td>\n",
       "      <td>0</td>\n",
       "      <td>1</td>\n",
       "      <td>0</td>\n",
       "      <td>1</td>\n",
       "    </tr>\n",
       "    <tr>\n",
       "      <th>4</th>\n",
       "      <td>61</td>\n",
       "      <td>80</td>\n",
       "      <td>1.015</td>\n",
       "      <td>2</td>\n",
       "      <td>0</td>\n",
       "      <td>1</td>\n",
       "      <td>1</td>\n",
       "      <td>0</td>\n",
       "      <td>0</td>\n",
       "      <td>173</td>\n",
       "      <td>...</td>\n",
       "      <td>24</td>\n",
       "      <td>9200</td>\n",
       "      <td>3.2</td>\n",
       "      <td>1</td>\n",
       "      <td>1</td>\n",
       "      <td>1</td>\n",
       "      <td>0</td>\n",
       "      <td>1</td>\n",
       "      <td>1</td>\n",
       "      <td>1</td>\n",
       "    </tr>\n",
       "    <tr>\n",
       "      <th>5</th>\n",
       "      <td>48</td>\n",
       "      <td>80</td>\n",
       "      <td>1.025</td>\n",
       "      <td>4</td>\n",
       "      <td>0</td>\n",
       "      <td>0</td>\n",
       "      <td>1</td>\n",
       "      <td>0</td>\n",
       "      <td>0</td>\n",
       "      <td>95</td>\n",
       "      <td>...</td>\n",
       "      <td>32</td>\n",
       "      <td>6900</td>\n",
       "      <td>3.4</td>\n",
       "      <td>1</td>\n",
       "      <td>0</td>\n",
       "      <td>0</td>\n",
       "      <td>1</td>\n",
       "      <td>0</td>\n",
       "      <td>1</td>\n",
       "      <td>1</td>\n",
       "    </tr>\n",
       "    <tr>\n",
       "      <th>6</th>\n",
       "      <td>69</td>\n",
       "      <td>70</td>\n",
       "      <td>1.010</td>\n",
       "      <td>3</td>\n",
       "      <td>4</td>\n",
       "      <td>0</td>\n",
       "      <td>1</td>\n",
       "      <td>0</td>\n",
       "      <td>0</td>\n",
       "      <td>264</td>\n",
       "      <td>...</td>\n",
       "      <td>37</td>\n",
       "      <td>9600</td>\n",
       "      <td>4.1</td>\n",
       "      <td>1</td>\n",
       "      <td>1</td>\n",
       "      <td>1</td>\n",
       "      <td>1</td>\n",
       "      <td>1</td>\n",
       "      <td>0</td>\n",
       "      <td>1</td>\n",
       "    </tr>\n",
       "    <tr>\n",
       "      <th>7</th>\n",
       "      <td>73</td>\n",
       "      <td>70</td>\n",
       "      <td>1.005</td>\n",
       "      <td>0</td>\n",
       "      <td>0</td>\n",
       "      <td>0</td>\n",
       "      <td>0</td>\n",
       "      <td>0</td>\n",
       "      <td>0</td>\n",
       "      <td>70</td>\n",
       "      <td>...</td>\n",
       "      <td>29</td>\n",
       "      <td>18900</td>\n",
       "      <td>3.5</td>\n",
       "      <td>1</td>\n",
       "      <td>1</td>\n",
       "      <td>0</td>\n",
       "      <td>1</td>\n",
       "      <td>1</td>\n",
       "      <td>0</td>\n",
       "      <td>1</td>\n",
       "    </tr>\n",
       "    <tr>\n",
       "      <th>8</th>\n",
       "      <td>73</td>\n",
       "      <td>80</td>\n",
       "      <td>1.020</td>\n",
       "      <td>2</td>\n",
       "      <td>0</td>\n",
       "      <td>1</td>\n",
       "      <td>1</td>\n",
       "      <td>0</td>\n",
       "      <td>0</td>\n",
       "      <td>253</td>\n",
       "      <td>...</td>\n",
       "      <td>33</td>\n",
       "      <td>7200</td>\n",
       "      <td>4.3</td>\n",
       "      <td>1</td>\n",
       "      <td>1</td>\n",
       "      <td>1</td>\n",
       "      <td>1</td>\n",
       "      <td>0</td>\n",
       "      <td>0</td>\n",
       "      <td>1</td>\n",
       "    </tr>\n",
       "    <tr>\n",
       "      <th>9</th>\n",
       "      <td>46</td>\n",
       "      <td>60</td>\n",
       "      <td>1.010</td>\n",
       "      <td>1</td>\n",
       "      <td>0</td>\n",
       "      <td>0</td>\n",
       "      <td>0</td>\n",
       "      <td>0</td>\n",
       "      <td>0</td>\n",
       "      <td>163</td>\n",
       "      <td>...</td>\n",
       "      <td>28</td>\n",
       "      <td>14600</td>\n",
       "      <td>3.2</td>\n",
       "      <td>1</td>\n",
       "      <td>1</td>\n",
       "      <td>0</td>\n",
       "      <td>1</td>\n",
       "      <td>0</td>\n",
       "      <td>0</td>\n",
       "      <td>1</td>\n",
       "    </tr>\n",
       "  </tbody>\n",
       "</table>\n",
       "<p>10 rows × 25 columns</p>\n",
       "</div>"
      ],
      "text/plain": [
       "   age  bp     sg  al  su  rbc  pc  pcc  ba  bgr  ...  pcv     wc   rc  htn  \\\n",
       "0   48  70  1.005   4   0    0   1    1   0  117  ...   32   6700  3.9    1   \n",
       "1   53  90  1.020   2   0    1   1    1   0   70  ...   29  12100  3.7    1   \n",
       "2   63  70  1.010   3   0    1   1    1   0  380  ...   32   4500  3.8    1   \n",
       "3   68  80  1.010   3   2    0   1    1   1  157  ...   16  11000  2.6    1   \n",
       "4   61  80  1.015   2   0    1   1    0   0  173  ...   24   9200  3.2    1   \n",
       "5   48  80  1.025   4   0    0   1    0   0   95  ...   32   6900  3.4    1   \n",
       "6   69  70  1.010   3   4    0   1    0   0  264  ...   37   9600  4.1    1   \n",
       "7   73  70  1.005   0   0    0   0    0   0   70  ...   29  18900  3.5    1   \n",
       "8   73  80  1.020   2   0    1   1    0   0  253  ...   33   7200  4.3    1   \n",
       "9   46  60  1.010   1   0    0   0    0   0  163  ...   28  14600  3.2    1   \n",
       "\n",
       "   dm  cad  appet  pe  ane  class  \n",
       "0   0    0      0   1    1      1  \n",
       "1   1    0      0   0    1      1  \n",
       "2   1    0      0   1    0      1  \n",
       "3   1    1      0   1    0      1  \n",
       "4   1    1      0   1    1      1  \n",
       "5   0    0      1   0    1      1  \n",
       "6   1    1      1   1    0      1  \n",
       "7   1    0      1   1    0      1  \n",
       "8   1    1      1   0    0      1  \n",
       "9   1    0      1   0    0      1  \n",
       "\n",
       "[10 rows x 25 columns]"
      ]
     },
     "execution_count": 15,
     "metadata": {},
     "output_type": "execute_result"
    }
   ],
   "source": [
    "dataset1.head(10)"
   ]
  },
  {
   "cell_type": "code",
   "execution_count": 16,
   "metadata": {
    "id": "EAkIajpLycDH"
   },
   "outputs": [],
   "source": [
    "dataset=dataset1.drop(['sg','al','rbc','pc','pcc','ba','sod','pot','hemo','sc','pcv','pe'],axis =1 )"
   ]
  },
  {
   "cell_type": "code",
   "execution_count": 17,
   "metadata": {
    "colab": {
     "base_uri": "https://localhost:8080/",
     "height": 359
    },
    "id": "0rhlp29-2RMt",
    "outputId": "58326c5f-62ef-4140-a9ae-59704e863ed7"
   },
   "outputs": [
    {
     "data": {
      "text/html": [
       "<div>\n",
       "<style scoped>\n",
       "    .dataframe tbody tr th:only-of-type {\n",
       "        vertical-align: middle;\n",
       "    }\n",
       "\n",
       "    .dataframe tbody tr th {\n",
       "        vertical-align: top;\n",
       "    }\n",
       "\n",
       "    .dataframe thead th {\n",
       "        text-align: right;\n",
       "    }\n",
       "</style>\n",
       "<table border=\"1\" class=\"dataframe\">\n",
       "  <thead>\n",
       "    <tr style=\"text-align: right;\">\n",
       "      <th></th>\n",
       "      <th>age</th>\n",
       "      <th>bp</th>\n",
       "      <th>su</th>\n",
       "      <th>bgr</th>\n",
       "      <th>bu</th>\n",
       "      <th>wc</th>\n",
       "      <th>rc</th>\n",
       "      <th>htn</th>\n",
       "      <th>dm</th>\n",
       "      <th>cad</th>\n",
       "      <th>appet</th>\n",
       "      <th>ane</th>\n",
       "      <th>class</th>\n",
       "    </tr>\n",
       "  </thead>\n",
       "  <tbody>\n",
       "    <tr>\n",
       "      <th>0</th>\n",
       "      <td>48</td>\n",
       "      <td>70</td>\n",
       "      <td>0</td>\n",
       "      <td>117</td>\n",
       "      <td>56</td>\n",
       "      <td>6700</td>\n",
       "      <td>3.9</td>\n",
       "      <td>1</td>\n",
       "      <td>0</td>\n",
       "      <td>0</td>\n",
       "      <td>0</td>\n",
       "      <td>1</td>\n",
       "      <td>1</td>\n",
       "    </tr>\n",
       "    <tr>\n",
       "      <th>1</th>\n",
       "      <td>53</td>\n",
       "      <td>90</td>\n",
       "      <td>0</td>\n",
       "      <td>70</td>\n",
       "      <td>107</td>\n",
       "      <td>12100</td>\n",
       "      <td>3.7</td>\n",
       "      <td>1</td>\n",
       "      <td>1</td>\n",
       "      <td>0</td>\n",
       "      <td>0</td>\n",
       "      <td>1</td>\n",
       "      <td>1</td>\n",
       "    </tr>\n",
       "    <tr>\n",
       "      <th>2</th>\n",
       "      <td>63</td>\n",
       "      <td>70</td>\n",
       "      <td>0</td>\n",
       "      <td>380</td>\n",
       "      <td>60</td>\n",
       "      <td>4500</td>\n",
       "      <td>3.8</td>\n",
       "      <td>1</td>\n",
       "      <td>1</td>\n",
       "      <td>0</td>\n",
       "      <td>0</td>\n",
       "      <td>0</td>\n",
       "      <td>1</td>\n",
       "    </tr>\n",
       "    <tr>\n",
       "      <th>3</th>\n",
       "      <td>68</td>\n",
       "      <td>80</td>\n",
       "      <td>2</td>\n",
       "      <td>157</td>\n",
       "      <td>90</td>\n",
       "      <td>11000</td>\n",
       "      <td>2.6</td>\n",
       "      <td>1</td>\n",
       "      <td>1</td>\n",
       "      <td>1</td>\n",
       "      <td>0</td>\n",
       "      <td>0</td>\n",
       "      <td>1</td>\n",
       "    </tr>\n",
       "    <tr>\n",
       "      <th>4</th>\n",
       "      <td>61</td>\n",
       "      <td>80</td>\n",
       "      <td>0</td>\n",
       "      <td>173</td>\n",
       "      <td>148</td>\n",
       "      <td>9200</td>\n",
       "      <td>3.2</td>\n",
       "      <td>1</td>\n",
       "      <td>1</td>\n",
       "      <td>1</td>\n",
       "      <td>0</td>\n",
       "      <td>1</td>\n",
       "      <td>1</td>\n",
       "    </tr>\n",
       "    <tr>\n",
       "      <th>5</th>\n",
       "      <td>48</td>\n",
       "      <td>80</td>\n",
       "      <td>0</td>\n",
       "      <td>95</td>\n",
       "      <td>163</td>\n",
       "      <td>6900</td>\n",
       "      <td>3.4</td>\n",
       "      <td>1</td>\n",
       "      <td>0</td>\n",
       "      <td>0</td>\n",
       "      <td>1</td>\n",
       "      <td>1</td>\n",
       "      <td>1</td>\n",
       "    </tr>\n",
       "    <tr>\n",
       "      <th>6</th>\n",
       "      <td>69</td>\n",
       "      <td>70</td>\n",
       "      <td>4</td>\n",
       "      <td>264</td>\n",
       "      <td>87</td>\n",
       "      <td>9600</td>\n",
       "      <td>4.1</td>\n",
       "      <td>1</td>\n",
       "      <td>1</td>\n",
       "      <td>1</td>\n",
       "      <td>1</td>\n",
       "      <td>0</td>\n",
       "      <td>1</td>\n",
       "    </tr>\n",
       "    <tr>\n",
       "      <th>7</th>\n",
       "      <td>73</td>\n",
       "      <td>70</td>\n",
       "      <td>0</td>\n",
       "      <td>70</td>\n",
       "      <td>32</td>\n",
       "      <td>18900</td>\n",
       "      <td>3.5</td>\n",
       "      <td>1</td>\n",
       "      <td>1</td>\n",
       "      <td>0</td>\n",
       "      <td>1</td>\n",
       "      <td>0</td>\n",
       "      <td>1</td>\n",
       "    </tr>\n",
       "    <tr>\n",
       "      <th>8</th>\n",
       "      <td>73</td>\n",
       "      <td>80</td>\n",
       "      <td>0</td>\n",
       "      <td>253</td>\n",
       "      <td>142</td>\n",
       "      <td>7200</td>\n",
       "      <td>4.3</td>\n",
       "      <td>1</td>\n",
       "      <td>1</td>\n",
       "      <td>1</td>\n",
       "      <td>1</td>\n",
       "      <td>0</td>\n",
       "      <td>1</td>\n",
       "    </tr>\n",
       "    <tr>\n",
       "      <th>9</th>\n",
       "      <td>46</td>\n",
       "      <td>60</td>\n",
       "      <td>0</td>\n",
       "      <td>163</td>\n",
       "      <td>92</td>\n",
       "      <td>14600</td>\n",
       "      <td>3.2</td>\n",
       "      <td>1</td>\n",
       "      <td>1</td>\n",
       "      <td>0</td>\n",
       "      <td>1</td>\n",
       "      <td>0</td>\n",
       "      <td>1</td>\n",
       "    </tr>\n",
       "  </tbody>\n",
       "</table>\n",
       "</div>"
      ],
      "text/plain": [
       "   age  bp  su  bgr   bu     wc   rc  htn  dm  cad  appet  ane  class\n",
       "0   48  70   0  117   56   6700  3.9    1   0    0      0    1      1\n",
       "1   53  90   0   70  107  12100  3.7    1   1    0      0    1      1\n",
       "2   63  70   0  380   60   4500  3.8    1   1    0      0    0      1\n",
       "3   68  80   2  157   90  11000  2.6    1   1    1      0    0      1\n",
       "4   61  80   0  173  148   9200  3.2    1   1    1      0    1      1\n",
       "5   48  80   0   95  163   6900  3.4    1   0    0      1    1      1\n",
       "6   69  70   4  264   87   9600  4.1    1   1    1      1    0      1\n",
       "7   73  70   0   70   32  18900  3.5    1   1    0      1    0      1\n",
       "8   73  80   0  253  142   7200  4.3    1   1    1      1    0      1\n",
       "9   46  60   0  163   92  14600  3.2    1   1    0      1    0      1"
      ]
     },
     "execution_count": 17,
     "metadata": {},
     "output_type": "execute_result"
    }
   ],
   "source": [
    "dataset.head(10)"
   ]
  },
  {
   "cell_type": "code",
   "execution_count": 18,
   "metadata": {
    "colab": {
     "base_uri": "https://localhost:8080/"
    },
    "id": "4k3xhxCPIWFc",
    "outputId": "17311789-bc62-45c5-d899-dd1eee80eda3"
   },
   "outputs": [
    {
     "name": "stdout",
     "output_type": "stream",
     "text": [
      "<class 'pandas.core.frame.DataFrame'>\n",
      "RangeIndex: 158 entries, 0 to 157\n",
      "Data columns (total 13 columns):\n",
      " #   Column  Non-Null Count  Dtype  \n",
      "---  ------  --------------  -----  \n",
      " 0   age     158 non-null    int64  \n",
      " 1   bp      158 non-null    int64  \n",
      " 2   su      158 non-null    int64  \n",
      " 3   bgr     158 non-null    int64  \n",
      " 4   bu      158 non-null    int64  \n",
      " 5   wc      158 non-null    int64  \n",
      " 6   rc      158 non-null    float64\n",
      " 7   htn     158 non-null    int64  \n",
      " 8   dm      158 non-null    int64  \n",
      " 9   cad     158 non-null    int64  \n",
      " 10  appet   158 non-null    int64  \n",
      " 11  ane     158 non-null    int64  \n",
      " 12  class   158 non-null    int64  \n",
      "dtypes: float64(1), int64(12)\n",
      "memory usage: 16.2 KB\n"
     ]
    }
   ],
   "source": [
    "dataset.info()"
   ]
  },
  {
   "cell_type": "code",
   "execution_count": 19,
   "metadata": {
    "colab": {
     "base_uri": "https://localhost:8080/",
     "height": 419
    },
    "id": "4g0Vbkq4Ibly",
    "outputId": "1f97e3b6-1490-46d7-9f63-2672dd858954"
   },
   "outputs": [
    {
     "data": {
      "text/html": [
       "<div>\n",
       "<style scoped>\n",
       "    .dataframe tbody tr th:only-of-type {\n",
       "        vertical-align: middle;\n",
       "    }\n",
       "\n",
       "    .dataframe tbody tr th {\n",
       "        vertical-align: top;\n",
       "    }\n",
       "\n",
       "    .dataframe thead th {\n",
       "        text-align: right;\n",
       "    }\n",
       "</style>\n",
       "<table border=\"1\" class=\"dataframe\">\n",
       "  <thead>\n",
       "    <tr style=\"text-align: right;\">\n",
       "      <th></th>\n",
       "      <th>age</th>\n",
       "      <th>bp</th>\n",
       "      <th>su</th>\n",
       "      <th>bgr</th>\n",
       "      <th>bu</th>\n",
       "      <th>wc</th>\n",
       "      <th>rc</th>\n",
       "      <th>htn</th>\n",
       "      <th>dm</th>\n",
       "      <th>cad</th>\n",
       "      <th>appet</th>\n",
       "      <th>ane</th>\n",
       "      <th>class</th>\n",
       "    </tr>\n",
       "  </thead>\n",
       "  <tbody>\n",
       "    <tr>\n",
       "      <th>0</th>\n",
       "      <td>48</td>\n",
       "      <td>70</td>\n",
       "      <td>0</td>\n",
       "      <td>117</td>\n",
       "      <td>56</td>\n",
       "      <td>6700</td>\n",
       "      <td>3.9</td>\n",
       "      <td>1</td>\n",
       "      <td>0</td>\n",
       "      <td>0</td>\n",
       "      <td>0</td>\n",
       "      <td>1</td>\n",
       "      <td>1</td>\n",
       "    </tr>\n",
       "    <tr>\n",
       "      <th>1</th>\n",
       "      <td>53</td>\n",
       "      <td>90</td>\n",
       "      <td>0</td>\n",
       "      <td>70</td>\n",
       "      <td>107</td>\n",
       "      <td>12100</td>\n",
       "      <td>3.7</td>\n",
       "      <td>1</td>\n",
       "      <td>1</td>\n",
       "      <td>0</td>\n",
       "      <td>0</td>\n",
       "      <td>1</td>\n",
       "      <td>1</td>\n",
       "    </tr>\n",
       "    <tr>\n",
       "      <th>2</th>\n",
       "      <td>63</td>\n",
       "      <td>70</td>\n",
       "      <td>0</td>\n",
       "      <td>380</td>\n",
       "      <td>60</td>\n",
       "      <td>4500</td>\n",
       "      <td>3.8</td>\n",
       "      <td>1</td>\n",
       "      <td>1</td>\n",
       "      <td>0</td>\n",
       "      <td>0</td>\n",
       "      <td>0</td>\n",
       "      <td>1</td>\n",
       "    </tr>\n",
       "    <tr>\n",
       "      <th>3</th>\n",
       "      <td>68</td>\n",
       "      <td>80</td>\n",
       "      <td>2</td>\n",
       "      <td>157</td>\n",
       "      <td>90</td>\n",
       "      <td>11000</td>\n",
       "      <td>2.6</td>\n",
       "      <td>1</td>\n",
       "      <td>1</td>\n",
       "      <td>1</td>\n",
       "      <td>0</td>\n",
       "      <td>0</td>\n",
       "      <td>1</td>\n",
       "    </tr>\n",
       "    <tr>\n",
       "      <th>4</th>\n",
       "      <td>61</td>\n",
       "      <td>80</td>\n",
       "      <td>0</td>\n",
       "      <td>173</td>\n",
       "      <td>148</td>\n",
       "      <td>9200</td>\n",
       "      <td>3.2</td>\n",
       "      <td>1</td>\n",
       "      <td>1</td>\n",
       "      <td>1</td>\n",
       "      <td>0</td>\n",
       "      <td>1</td>\n",
       "      <td>1</td>\n",
       "    </tr>\n",
       "    <tr>\n",
       "      <th>...</th>\n",
       "      <td>...</td>\n",
       "      <td>...</td>\n",
       "      <td>...</td>\n",
       "      <td>...</td>\n",
       "      <td>...</td>\n",
       "      <td>...</td>\n",
       "      <td>...</td>\n",
       "      <td>...</td>\n",
       "      <td>...</td>\n",
       "      <td>...</td>\n",
       "      <td>...</td>\n",
       "      <td>...</td>\n",
       "      <td>...</td>\n",
       "    </tr>\n",
       "    <tr>\n",
       "      <th>153</th>\n",
       "      <td>55</td>\n",
       "      <td>80</td>\n",
       "      <td>0</td>\n",
       "      <td>140</td>\n",
       "      <td>49</td>\n",
       "      <td>6700</td>\n",
       "      <td>4.9</td>\n",
       "      <td>0</td>\n",
       "      <td>0</td>\n",
       "      <td>0</td>\n",
       "      <td>1</td>\n",
       "      <td>0</td>\n",
       "      <td>0</td>\n",
       "    </tr>\n",
       "    <tr>\n",
       "      <th>154</th>\n",
       "      <td>42</td>\n",
       "      <td>70</td>\n",
       "      <td>0</td>\n",
       "      <td>75</td>\n",
       "      <td>31</td>\n",
       "      <td>7800</td>\n",
       "      <td>6.2</td>\n",
       "      <td>0</td>\n",
       "      <td>0</td>\n",
       "      <td>0</td>\n",
       "      <td>1</td>\n",
       "      <td>0</td>\n",
       "      <td>0</td>\n",
       "    </tr>\n",
       "    <tr>\n",
       "      <th>155</th>\n",
       "      <td>12</td>\n",
       "      <td>80</td>\n",
       "      <td>0</td>\n",
       "      <td>100</td>\n",
       "      <td>26</td>\n",
       "      <td>6600</td>\n",
       "      <td>5.4</td>\n",
       "      <td>0</td>\n",
       "      <td>0</td>\n",
       "      <td>0</td>\n",
       "      <td>1</td>\n",
       "      <td>0</td>\n",
       "      <td>0</td>\n",
       "    </tr>\n",
       "    <tr>\n",
       "      <th>156</th>\n",
       "      <td>17</td>\n",
       "      <td>60</td>\n",
       "      <td>0</td>\n",
       "      <td>114</td>\n",
       "      <td>50</td>\n",
       "      <td>7200</td>\n",
       "      <td>5.9</td>\n",
       "      <td>0</td>\n",
       "      <td>0</td>\n",
       "      <td>0</td>\n",
       "      <td>1</td>\n",
       "      <td>0</td>\n",
       "      <td>0</td>\n",
       "    </tr>\n",
       "    <tr>\n",
       "      <th>157</th>\n",
       "      <td>58</td>\n",
       "      <td>80</td>\n",
       "      <td>0</td>\n",
       "      <td>131</td>\n",
       "      <td>18</td>\n",
       "      <td>6800</td>\n",
       "      <td>6.1</td>\n",
       "      <td>0</td>\n",
       "      <td>0</td>\n",
       "      <td>0</td>\n",
       "      <td>1</td>\n",
       "      <td>0</td>\n",
       "      <td>0</td>\n",
       "    </tr>\n",
       "  </tbody>\n",
       "</table>\n",
       "<p>158 rows × 13 columns</p>\n",
       "</div>"
      ],
      "text/plain": [
       "     age  bp  su  bgr   bu     wc   rc  htn  dm  cad  appet  ane  class\n",
       "0     48  70   0  117   56   6700  3.9    1   0    0      0    1      1\n",
       "1     53  90   0   70  107  12100  3.7    1   1    0      0    1      1\n",
       "2     63  70   0  380   60   4500  3.8    1   1    0      0    0      1\n",
       "3     68  80   2  157   90  11000  2.6    1   1    1      0    0      1\n",
       "4     61  80   0  173  148   9200  3.2    1   1    1      0    1      1\n",
       "..   ...  ..  ..  ...  ...    ...  ...  ...  ..  ...    ...  ...    ...\n",
       "153   55  80   0  140   49   6700  4.9    0   0    0      1    0      0\n",
       "154   42  70   0   75   31   7800  6.2    0   0    0      1    0      0\n",
       "155   12  80   0  100   26   6600  5.4    0   0    0      1    0      0\n",
       "156   17  60   0  114   50   7200  5.9    0   0    0      1    0      0\n",
       "157   58  80   0  131   18   6800  6.1    0   0    0      1    0      0\n",
       "\n",
       "[158 rows x 13 columns]"
      ]
     },
     "execution_count": 19,
     "metadata": {},
     "output_type": "execute_result"
    }
   ],
   "source": [
    "dataset.dropna(axis=0)"
   ]
  },
  {
   "cell_type": "code",
   "execution_count": 20,
   "metadata": {
    "colab": {
     "base_uri": "https://localhost:8080/",
     "height": 452
    },
    "id": "yelhjbh8Ik2Z",
    "outputId": "a5e2e094-a49c-4d65-b2de-845de458b43c"
   },
   "outputs": [
    {
     "data": {
      "text/html": [
       "<div>\n",
       "<style scoped>\n",
       "    .dataframe tbody tr th:only-of-type {\n",
       "        vertical-align: middle;\n",
       "    }\n",
       "\n",
       "    .dataframe tbody tr th {\n",
       "        vertical-align: top;\n",
       "    }\n",
       "\n",
       "    .dataframe thead th {\n",
       "        text-align: right;\n",
       "    }\n",
       "</style>\n",
       "<table border=\"1\" class=\"dataframe\">\n",
       "  <thead>\n",
       "    <tr style=\"text-align: right;\">\n",
       "      <th></th>\n",
       "      <th>count</th>\n",
       "      <th>mean</th>\n",
       "      <th>std</th>\n",
       "      <th>min</th>\n",
       "      <th>25%</th>\n",
       "      <th>50%</th>\n",
       "      <th>75%</th>\n",
       "      <th>max</th>\n",
       "    </tr>\n",
       "  </thead>\n",
       "  <tbody>\n",
       "    <tr>\n",
       "      <th>age</th>\n",
       "      <td>158.0</td>\n",
       "      <td>49.563291</td>\n",
       "      <td>15.512244</td>\n",
       "      <td>6.0</td>\n",
       "      <td>39.25</td>\n",
       "      <td>50.50</td>\n",
       "      <td>60.00</td>\n",
       "      <td>83.0</td>\n",
       "    </tr>\n",
       "    <tr>\n",
       "      <th>bp</th>\n",
       "      <td>158.0</td>\n",
       "      <td>74.050633</td>\n",
       "      <td>11.175381</td>\n",
       "      <td>50.0</td>\n",
       "      <td>60.00</td>\n",
       "      <td>80.00</td>\n",
       "      <td>80.00</td>\n",
       "      <td>110.0</td>\n",
       "    </tr>\n",
       "    <tr>\n",
       "      <th>su</th>\n",
       "      <td>158.0</td>\n",
       "      <td>0.253165</td>\n",
       "      <td>0.813397</td>\n",
       "      <td>0.0</td>\n",
       "      <td>0.00</td>\n",
       "      <td>0.00</td>\n",
       "      <td>0.00</td>\n",
       "      <td>5.0</td>\n",
       "    </tr>\n",
       "    <tr>\n",
       "      <th>bgr</th>\n",
       "      <td>158.0</td>\n",
       "      <td>131.341772</td>\n",
       "      <td>64.939832</td>\n",
       "      <td>70.0</td>\n",
       "      <td>97.00</td>\n",
       "      <td>115.50</td>\n",
       "      <td>131.75</td>\n",
       "      <td>490.0</td>\n",
       "    </tr>\n",
       "    <tr>\n",
       "      <th>bu</th>\n",
       "      <td>158.0</td>\n",
       "      <td>52.575949</td>\n",
       "      <td>47.395382</td>\n",
       "      <td>10.0</td>\n",
       "      <td>26.00</td>\n",
       "      <td>39.50</td>\n",
       "      <td>49.75</td>\n",
       "      <td>309.0</td>\n",
       "    </tr>\n",
       "    <tr>\n",
       "      <th>wc</th>\n",
       "      <td>158.0</td>\n",
       "      <td>8475.949367</td>\n",
       "      <td>3126.880181</td>\n",
       "      <td>3800.0</td>\n",
       "      <td>6525.00</td>\n",
       "      <td>7800.00</td>\n",
       "      <td>9775.00</td>\n",
       "      <td>26400.0</td>\n",
       "    </tr>\n",
       "    <tr>\n",
       "      <th>rc</th>\n",
       "      <td>158.0</td>\n",
       "      <td>4.891772</td>\n",
       "      <td>1.019364</td>\n",
       "      <td>2.1</td>\n",
       "      <td>4.50</td>\n",
       "      <td>4.95</td>\n",
       "      <td>5.60</td>\n",
       "      <td>8.0</td>\n",
       "    </tr>\n",
       "    <tr>\n",
       "      <th>htn</th>\n",
       "      <td>158.0</td>\n",
       "      <td>0.215190</td>\n",
       "      <td>0.412261</td>\n",
       "      <td>0.0</td>\n",
       "      <td>0.00</td>\n",
       "      <td>0.00</td>\n",
       "      <td>0.00</td>\n",
       "      <td>1.0</td>\n",
       "    </tr>\n",
       "    <tr>\n",
       "      <th>dm</th>\n",
       "      <td>158.0</td>\n",
       "      <td>0.177215</td>\n",
       "      <td>0.383065</td>\n",
       "      <td>0.0</td>\n",
       "      <td>0.00</td>\n",
       "      <td>0.00</td>\n",
       "      <td>0.00</td>\n",
       "      <td>1.0</td>\n",
       "    </tr>\n",
       "    <tr>\n",
       "      <th>cad</th>\n",
       "      <td>158.0</td>\n",
       "      <td>0.069620</td>\n",
       "      <td>0.255315</td>\n",
       "      <td>0.0</td>\n",
       "      <td>0.00</td>\n",
       "      <td>0.00</td>\n",
       "      <td>0.00</td>\n",
       "      <td>1.0</td>\n",
       "    </tr>\n",
       "    <tr>\n",
       "      <th>appet</th>\n",
       "      <td>158.0</td>\n",
       "      <td>0.879747</td>\n",
       "      <td>0.326292</td>\n",
       "      <td>0.0</td>\n",
       "      <td>1.00</td>\n",
       "      <td>1.00</td>\n",
       "      <td>1.00</td>\n",
       "      <td>1.0</td>\n",
       "    </tr>\n",
       "    <tr>\n",
       "      <th>ane</th>\n",
       "      <td>158.0</td>\n",
       "      <td>0.101266</td>\n",
       "      <td>0.302640</td>\n",
       "      <td>0.0</td>\n",
       "      <td>0.00</td>\n",
       "      <td>0.00</td>\n",
       "      <td>0.00</td>\n",
       "      <td>1.0</td>\n",
       "    </tr>\n",
       "    <tr>\n",
       "      <th>class</th>\n",
       "      <td>158.0</td>\n",
       "      <td>0.272152</td>\n",
       "      <td>0.446483</td>\n",
       "      <td>0.0</td>\n",
       "      <td>0.00</td>\n",
       "      <td>0.00</td>\n",
       "      <td>1.00</td>\n",
       "      <td>1.0</td>\n",
       "    </tr>\n",
       "  </tbody>\n",
       "</table>\n",
       "</div>"
      ],
      "text/plain": [
       "       count         mean          std     min      25%      50%      75%  \\\n",
       "age    158.0    49.563291    15.512244     6.0    39.25    50.50    60.00   \n",
       "bp     158.0    74.050633    11.175381    50.0    60.00    80.00    80.00   \n",
       "su     158.0     0.253165     0.813397     0.0     0.00     0.00     0.00   \n",
       "bgr    158.0   131.341772    64.939832    70.0    97.00   115.50   131.75   \n",
       "bu     158.0    52.575949    47.395382    10.0    26.00    39.50    49.75   \n",
       "wc     158.0  8475.949367  3126.880181  3800.0  6525.00  7800.00  9775.00   \n",
       "rc     158.0     4.891772     1.019364     2.1     4.50     4.95     5.60   \n",
       "htn    158.0     0.215190     0.412261     0.0     0.00     0.00     0.00   \n",
       "dm     158.0     0.177215     0.383065     0.0     0.00     0.00     0.00   \n",
       "cad    158.0     0.069620     0.255315     0.0     0.00     0.00     0.00   \n",
       "appet  158.0     0.879747     0.326292     0.0     1.00     1.00     1.00   \n",
       "ane    158.0     0.101266     0.302640     0.0     0.00     0.00     0.00   \n",
       "class  158.0     0.272152     0.446483     0.0     0.00     0.00     1.00   \n",
       "\n",
       "           max  \n",
       "age       83.0  \n",
       "bp       110.0  \n",
       "su         5.0  \n",
       "bgr      490.0  \n",
       "bu       309.0  \n",
       "wc     26400.0  \n",
       "rc         8.0  \n",
       "htn        1.0  \n",
       "dm         1.0  \n",
       "cad        1.0  \n",
       "appet      1.0  \n",
       "ane        1.0  \n",
       "class      1.0  "
      ]
     },
     "execution_count": 20,
     "metadata": {},
     "output_type": "execute_result"
    }
   ],
   "source": [
    "dataset.describe().T"
   ]
  },
  {
   "cell_type": "code",
   "execution_count": 21,
   "metadata": {
    "colab": {
     "base_uri": "https://localhost:8080/"
    },
    "id": "c34AFhHVI3mi",
    "outputId": "0a3baa99-90f9-41fb-e004-476679c109bb"
   },
   "outputs": [
    {
     "name": "stdout",
     "output_type": "stream",
     "text": [
      "False\n",
      "False\n"
     ]
    }
   ],
   "source": [
    "print(dataset.isnull().values.any())\n",
    "dataset = dataset.dropna()\n",
    "print(dataset.isnull().values.any()) "
   ]
  },
  {
   "cell_type": "code",
   "execution_count": 22,
   "metadata": {
    "colab": {
     "base_uri": "https://localhost:8080/",
     "height": 610
    },
    "id": "AYJluZnAI9pV",
    "outputId": "f69808b9-fa75-445b-b8bc-0df37c1315c3"
   },
   "outputs": [
    {
     "data": {
      "image/png": "[encoded data removed]",
      "text/plain": [
       "<Figure size 720x720 with 16 Axes>"
      ]
     },
     "metadata": {},
     "output_type": "display_data"
    }
   ],
   "source": [
    "from matplotlib.pyplot import figure\n",
    "# for feature in data_feature:\n",
    "#     plt.hist(data[feature])\n",
    "#     plt.show()\n",
    "p = dataset.hist(figsize = (10,10)) "
   ]
  },
  {
   "cell_type": "code",
   "execution_count": 23,
   "metadata": {
    "id": "5AgKXa5xJEhl"
   },
   "outputs": [],
   "source": [
    "#sns.pairplot(data =dataset)\n",
    "plt.show()"
   ]
  },
  {
   "cell_type": "code",
   "execution_count": 24,
   "metadata": {
    "colab": {
     "base_uri": "https://localhost:8080/",
     "height": 1000
    },
    "id": "gk9x34vBJIzX",
    "outputId": "0509a039-05a2-455b-f75a-e98f67d820c8"
   },
   "outputs": [
    {
     "data": {
      "image/png": "[encoded data removed]",
      "text/plain": [
       "<Figure size 432x288 with 1 Axes>"
      ]
     },
     "metadata": {},
     "output_type": "display_data"
    },
    {
     "data": {
      "image/png": "[encoded data removed]",
      "text/plain": [
       "<Figure size 432x288 with 1 Axes>"
      ]
     },
     "metadata": {},
     "output_type": "display_data"
    },
    {
     "data": {
      "image/png": "[encoded data removed]",
      "text/plain": [
       "<Figure size 432x288 with 1 Axes>"
      ]
     },
     "metadata": {},
     "output_type": "display_data"
    },
    {
     "data": {
      "image/png": "[encoded data removed]",
      "text/plain": [
       "<Figure size 432x288 with 1 Axes>"
      ]
     },
     "metadata": {},
     "output_type": "display_data"
    },
    {
     "data": {
      "image/png": "[encoded data removed]",
      "text/plain": [
       "<Figure size 432x288 with 1 Axes>"
      ]
     },
     "metadata": {},
     "output_type": "display_data"
    },
    {
     "data": {
      "image/png": "[encoded data removed]",
      "text/plain": [
       "<Figure size 432x288 with 1 Axes>"
      ]
     },
     "metadata": {},
     "output_type": "display_data"
    },
    {
     "data": {
      "image/png": "[encoded data removed]",
      "text/plain": [
       "<Figure size 432x288 with 1 Axes>"
      ]
     },
     "metadata": {},
     "output_type": "display_data"
    },
    {
     "data": {
      "image/png": "[encoded data removed]",
      "text/plain": [
       "<Figure size 432x288 with 1 Axes>"
      ]
     },
     "metadata": {},
     "output_type": "display_data"
    },
    {
     "data": {
      "image/png": "[encoded data removed]",
      "text/plain": [
       "<Figure size 432x288 with 1 Axes>"
      ]
     },
     "metadata": {},
     "output_type": "display_data"
    },
    {
     "data": {
      "image/png": "[encoded data removed]",
      "text/plain": [
       "<Figure size 432x288 with 1 Axes>"
      ]
     },
     "metadata": {},
     "output_type": "display_data"
    },
    {
     "data": {
      "image/png": "[encoded data removed]",
      "text/plain": [
       "<Figure size 432x288 with 1 Axes>"
      ]
     },
     "metadata": {},
     "output_type": "display_data"
    },
    {
     "data": {
      "image/png": "[encoded data removed]",
      "text/plain": [
       "<Figure size 432x288 with 1 Axes>"
      ]
     },
     "metadata": {},
     "output_type": "display_data"
    },
    {
     "data": {
      "image/png": "[encoded data removed]",
      "text/plain": [
       "<Figure size 432x288 with 1 Axes>"
      ]
     },
     "metadata": {},
     "output_type": "display_data"
    }
   ],
   "source": [
    "from scipy import stats\n",
    "for feature in dataset.columns:\n",
    "    stats.probplot(dataset[feature], plot = plt)\n",
    "    plt.title(feature)\n",
    "    plt.show()"
   ]
  },
  {
   "cell_type": "code",
   "execution_count": 25,
   "metadata": {
    "id": "ums8C_65JN6h"
   },
   "outputs": [],
   "source": [
    "def plot_corr(dataset, size=17):\n",
    "    \"\"\"\n",
    "    Function plots a graphical correlation matrix for each pair of columns in the dataframe.\n",
    "\n",
    "    Input:\n",
    "        data_frame: pandas DataFrame\n",
    "        size: vertical and horizontal size of the plot\n",
    "\n",
    "    Displays:\n",
    "        matrix of correlation between columns.  Blue-cyan-yellow-red-darkred => less to more correlated\n",
    "                                                0 ------------------>  1\n",
    "                                                Expect a darkred line running from top left to bottom right\n",
    "    \"\"\"\n",
    "\n",
    "    corr = dataset.corr()    # data frame correlation function\n",
    "    fig, ax = plt.subplots(figsize=(size, size))\n",
    "    ax.matshow(corr)   # color code the rectangles by correlation value\n",
    "    plt.xticks(range(len(corr.columns)), corr.columns)  # draw x tick marks\n",
    "    plt.yticks(range(len(corr.columns)), corr.columns)  # draw y tick marks"
   ]
  },
  {
   "cell_type": "code",
   "execution_count": 26,
   "metadata": {
    "colab": {
     "base_uri": "https://localhost:8080/",
     "height": 452
    },
    "id": "3IhwTxmZJaqz",
    "outputId": "152bcd29-4124-4071-d6ff-d03473e90322"
   },
   "outputs": [
    {
     "data": {
      "text/html": [
       "<div>\n",
       "<style scoped>\n",
       "    .dataframe tbody tr th:only-of-type {\n",
       "        vertical-align: middle;\n",
       "    }\n",
       "\n",
       "    .dataframe tbody tr th {\n",
       "        vertical-align: top;\n",
       "    }\n",
       "\n",
       "    .dataframe thead th {\n",
       "        text-align: right;\n",
       "    }\n",
       "</style>\n",
       "<table border=\"1\" class=\"dataframe\">\n",
       "  <thead>\n",
       "    <tr style=\"text-align: right;\">\n",
       "      <th></th>\n",
       "      <th>age</th>\n",
       "      <th>bp</th>\n",
       "      <th>su</th>\n",
       "      <th>bgr</th>\n",
       "      <th>bu</th>\n",
       "      <th>wc</th>\n",
       "      <th>rc</th>\n",
       "      <th>htn</th>\n",
       "      <th>dm</th>\n",
       "      <th>cad</th>\n",
       "      <th>appet</th>\n",
       "      <th>ane</th>\n",
       "      <th>class</th>\n",
       "    </tr>\n",
       "  </thead>\n",
       "  <tbody>\n",
       "    <tr>\n",
       "      <th>age</th>\n",
       "      <td>1.000000</td>\n",
       "      <td>0.079712</td>\n",
       "      <td>0.207711</td>\n",
       "      <td>0.301915</td>\n",
       "      <td>0.190636</td>\n",
       "      <td>0.153132</td>\n",
       "      <td>-0.242235</td>\n",
       "      <td>0.372348</td>\n",
       "      <td>0.323957</td>\n",
       "      <td>0.269868</td>\n",
       "      <td>-0.170259</td>\n",
       "      <td>0.105809</td>\n",
       "      <td>0.305119</td>\n",
       "    </tr>\n",
       "    <tr>\n",
       "      <th>bp</th>\n",
       "      <td>0.079712</td>\n",
       "      <td>1.000000</td>\n",
       "      <td>0.243828</td>\n",
       "      <td>0.190113</td>\n",
       "      <td>0.316287</td>\n",
       "      <td>0.008274</td>\n",
       "      <td>-0.228533</td>\n",
       "      <td>0.334951</td>\n",
       "      <td>0.218096</td>\n",
       "      <td>0.257709</td>\n",
       "      <td>-0.145047</td>\n",
       "      <td>0.311097</td>\n",
       "      <td>0.326567</td>\n",
       "    </tr>\n",
       "    <tr>\n",
       "      <th>su</th>\n",
       "      <td>0.207711</td>\n",
       "      <td>0.243828</td>\n",
       "      <td>1.000000</td>\n",
       "      <td>0.730050</td>\n",
       "      <td>0.312259</td>\n",
       "      <td>0.201000</td>\n",
       "      <td>-0.377726</td>\n",
       "      <td>0.577286</td>\n",
       "      <td>0.591010</td>\n",
       "      <td>0.466658</td>\n",
       "      <td>-0.220547</td>\n",
       "      <td>0.179811</td>\n",
       "      <td>0.510615</td>\n",
       "    </tr>\n",
       "    <tr>\n",
       "      <th>bgr</th>\n",
       "      <td>0.301915</td>\n",
       "      <td>0.190113</td>\n",
       "      <td>0.730050</td>\n",
       "      <td>1.000000</td>\n",
       "      <td>0.326496</td>\n",
       "      <td>0.212093</td>\n",
       "      <td>-0.418085</td>\n",
       "      <td>0.579407</td>\n",
       "      <td>0.663012</td>\n",
       "      <td>0.459164</td>\n",
       "      <td>-0.338924</td>\n",
       "      <td>0.139854</td>\n",
       "      <td>0.591217</td>\n",
       "    </tr>\n",
       "    <tr>\n",
       "      <th>bu</th>\n",
       "      <td>0.190636</td>\n",
       "      <td>0.316287</td>\n",
       "      <td>0.312259</td>\n",
       "      <td>0.326496</td>\n",
       "      <td>1.000000</td>\n",
       "      <td>0.128961</td>\n",
       "      <td>-0.621456</td>\n",
       "      <td>0.623738</td>\n",
       "      <td>0.565137</td>\n",
       "      <td>0.312485</td>\n",
       "      <td>-0.502091</td>\n",
       "      <td>0.654444</td>\n",
       "      <td>0.677611</td>\n",
       "    </tr>\n",
       "    <tr>\n",
       "      <th>wc</th>\n",
       "      <td>0.153132</td>\n",
       "      <td>0.008274</td>\n",
       "      <td>0.201000</td>\n",
       "      <td>0.212093</td>\n",
       "      <td>0.128961</td>\n",
       "      <td>1.000000</td>\n",
       "      <td>-0.272390</td>\n",
       "      <td>0.223916</td>\n",
       "      <td>0.287010</td>\n",
       "      <td>0.021259</td>\n",
       "      <td>-0.328730</td>\n",
       "      <td>0.139224</td>\n",
       "      <td>0.407570</td>\n",
       "    </tr>\n",
       "    <tr>\n",
       "      <th>rc</th>\n",
       "      <td>-0.242235</td>\n",
       "      <td>-0.228533</td>\n",
       "      <td>-0.377726</td>\n",
       "      <td>-0.418085</td>\n",
       "      <td>-0.621456</td>\n",
       "      <td>-0.272390</td>\n",
       "      <td>1.000000</td>\n",
       "      <td>-0.671740</td>\n",
       "      <td>-0.594881</td>\n",
       "      <td>-0.362439</td>\n",
       "      <td>0.556182</td>\n",
       "      <td>-0.581576</td>\n",
       "      <td>-0.719978</td>\n",
       "    </tr>\n",
       "    <tr>\n",
       "      <th>htn</th>\n",
       "      <td>0.372348</td>\n",
       "      <td>0.334951</td>\n",
       "      <td>0.577286</td>\n",
       "      <td>0.579407</td>\n",
       "      <td>0.623738</td>\n",
       "      <td>0.223916</td>\n",
       "      <td>-0.671740</td>\n",
       "      <td>1.000000</td>\n",
       "      <td>0.765298</td>\n",
       "      <td>0.522407</td>\n",
       "      <td>-0.564008</td>\n",
       "      <td>0.538941</td>\n",
       "      <td>0.856334</td>\n",
       "    </tr>\n",
       "    <tr>\n",
       "      <th>dm</th>\n",
       "      <td>0.323957</td>\n",
       "      <td>0.218096</td>\n",
       "      <td>0.591010</td>\n",
       "      <td>0.663012</td>\n",
       "      <td>0.565137</td>\n",
       "      <td>0.287010</td>\n",
       "      <td>-0.594881</td>\n",
       "      <td>0.765298</td>\n",
       "      <td>1.000000</td>\n",
       "      <td>0.459176</td>\n",
       "      <td>-0.490885</td>\n",
       "      <td>0.283750</td>\n",
       "      <td>0.758965</td>\n",
       "    </tr>\n",
       "    <tr>\n",
       "      <th>cad</th>\n",
       "      <td>0.269868</td>\n",
       "      <td>0.257709</td>\n",
       "      <td>0.466658</td>\n",
       "      <td>0.459164</td>\n",
       "      <td>0.312485</td>\n",
       "      <td>0.021259</td>\n",
       "      <td>-0.362439</td>\n",
       "      <td>0.522407</td>\n",
       "      <td>0.459176</td>\n",
       "      <td>1.000000</td>\n",
       "      <td>-0.128235</td>\n",
       "      <td>0.237906</td>\n",
       "      <td>0.447355</td>\n",
       "    </tr>\n",
       "    <tr>\n",
       "      <th>appet</th>\n",
       "      <td>-0.170259</td>\n",
       "      <td>-0.145047</td>\n",
       "      <td>-0.220547</td>\n",
       "      <td>-0.338924</td>\n",
       "      <td>-0.502091</td>\n",
       "      <td>-0.328730</td>\n",
       "      <td>0.556182</td>\n",
       "      <td>-0.564008</td>\n",
       "      <td>-0.490885</td>\n",
       "      <td>-0.128235</td>\n",
       "      <td>1.000000</td>\n",
       "      <td>-0.520910</td>\n",
       "      <td>-0.604622</td>\n",
       "    </tr>\n",
       "    <tr>\n",
       "      <th>ane</th>\n",
       "      <td>0.105809</td>\n",
       "      <td>0.311097</td>\n",
       "      <td>0.179811</td>\n",
       "      <td>0.139854</td>\n",
       "      <td>0.654444</td>\n",
       "      <td>0.139224</td>\n",
       "      <td>-0.581576</td>\n",
       "      <td>0.538941</td>\n",
       "      <td>0.283750</td>\n",
       "      <td>0.237906</td>\n",
       "      <td>-0.520910</td>\n",
       "      <td>1.000000</td>\n",
       "      <td>0.548947</td>\n",
       "    </tr>\n",
       "    <tr>\n",
       "      <th>class</th>\n",
       "      <td>0.305119</td>\n",
       "      <td>0.326567</td>\n",
       "      <td>0.510615</td>\n",
       "      <td>0.591217</td>\n",
       "      <td>0.677611</td>\n",
       "      <td>0.407570</td>\n",
       "      <td>-0.719978</td>\n",
       "      <td>0.856334</td>\n",
       "      <td>0.758965</td>\n",
       "      <td>0.447355</td>\n",
       "      <td>-0.604622</td>\n",
       "      <td>0.548947</td>\n",
       "      <td>1.000000</td>\n",
       "    </tr>\n",
       "  </tbody>\n",
       "</table>\n",
       "</div>"
      ],
      "text/plain": [
       "            age        bp        su       bgr        bu        wc        rc  \\\n",
       "age    1.000000  0.079712  0.207711  0.301915  0.190636  0.153132 -0.242235   \n",
       "bp     0.079712  1.000000  0.243828  0.190113  0.316287  0.008274 -0.228533   \n",
       "su     0.207711  0.243828  1.000000  0.730050  0.312259  0.201000 -0.377726   \n",
       "bgr    0.301915  0.190113  0.730050  1.000000  0.326496  0.212093 -0.418085   \n",
       "bu     0.190636  0.316287  0.312259  0.326496  1.000000  0.128961 -0.621456   \n",
       "wc     0.153132  0.008274  0.201000  0.212093  0.128961  1.000000 -0.272390   \n",
       "rc    -0.242235 -0.228533 -0.377726 -0.418085 -0.621456 -0.272390  1.000000   \n",
       "htn    0.372348  0.334951  0.577286  0.579407  0.623738  0.223916 -0.671740   \n",
       "dm     0.323957  0.218096  0.591010  0.663012  0.565137  0.287010 -0.594881   \n",
       "cad    0.269868  0.257709  0.466658  0.459164  0.312485  0.021259 -0.362439   \n",
       "appet -0.170259 -0.145047 -0.220547 -0.338924 -0.502091 -0.328730  0.556182   \n",
       "ane    0.105809  0.311097  0.179811  0.139854  0.654444  0.139224 -0.581576   \n",
       "class  0.305119  0.326567  0.510615  0.591217  0.677611  0.407570 -0.719978   \n",
       "\n",
       "            htn        dm       cad     appet       ane     class  \n",
       "age    0.372348  0.323957  0.269868 -0.170259  0.105809  0.305119  \n",
       "bp     0.334951  0.218096  0.257709 -0.145047  0.311097  0.326567  \n",
       "su     0.577286  0.591010  0.466658 -0.220547  0.179811  0.510615  \n",
       "bgr    0.579407  0.663012  0.459164 -0.338924  0.139854  0.591217  \n",
       "bu     0.623738  0.565137  0.312485 -0.502091  0.654444  0.677611  \n",
       "wc     0.223916  0.287010  0.021259 -0.328730  0.139224  0.407570  \n",
       "rc    -0.671740 -0.594881 -0.362439  0.556182 -0.581576 -0.719978  \n",
       "htn    1.000000  0.765298  0.522407 -0.564008  0.538941  0.856334  \n",
       "dm     0.765298  1.000000  0.459176 -0.490885  0.283750  0.758965  \n",
       "cad    0.522407  0.459176  1.000000 -0.128235  0.237906  0.447355  \n",
       "appet -0.564008 -0.490885 -0.128235  1.000000 -0.520910 -0.604622  \n",
       "ane    0.538941  0.283750  0.237906 -0.520910  1.000000  0.548947  \n",
       "class  0.856334  0.758965  0.447355 -0.604622  0.548947  1.000000  "
      ]
     },
     "execution_count": 26,
     "metadata": {},
     "output_type": "execute_result"
    }
   ],
   "source": [
    "dataset.corr()"
   ]
  },
  {
   "cell_type": "code",
   "execution_count": 27,
   "metadata": {
    "colab": {
     "base_uri": "https://localhost:8080/",
     "height": 870
    },
    "id": "wUvSl8XyJe7L",
    "outputId": "abebcdf1-c38f-4d93-b19d-e965f81fc7b2"
   },
   "outputs": [
    {
     "data": {
      "image/png": "[encoded data removed]",
      "text/plain": [
       "<Figure size 1080x1080 with 2 Axes>"
      ]
     },
     "metadata": {},
     "output_type": "display_data"
    }
   ],
   "source": [
    "import seaborn as sns\n",
    "fig , ax=plt.subplots(figsize=(15,15))\n",
    "sns.heatmap(dataset.corr(), cmap='RdBu',center=0, vmin=-1 ,vmax=1, annot=True);"
   ]
  },
  {
   "cell_type": "code",
   "execution_count": 28,
   "metadata": {
    "colab": {
     "base_uri": "https://localhost:8080/",
     "height": 359
    },
    "id": "Jc8OyRXBJmRB",
    "outputId": "936b5ebc-0ecb-4625-9126-1ad618e0165f"
   },
   "outputs": [
    {
     "data": {
      "text/html": [
       "<div>\n",
       "<style scoped>\n",
       "    .dataframe tbody tr th:only-of-type {\n",
       "        vertical-align: middle;\n",
       "    }\n",
       "\n",
       "    .dataframe tbody tr th {\n",
       "        vertical-align: top;\n",
       "    }\n",
       "\n",
       "    .dataframe thead th {\n",
       "        text-align: right;\n",
       "    }\n",
       "</style>\n",
       "<table border=\"1\" class=\"dataframe\">\n",
       "  <thead>\n",
       "    <tr style=\"text-align: right;\">\n",
       "      <th></th>\n",
       "      <th>age</th>\n",
       "      <th>bp</th>\n",
       "      <th>su</th>\n",
       "      <th>bgr</th>\n",
       "      <th>bu</th>\n",
       "      <th>wc</th>\n",
       "      <th>rc</th>\n",
       "      <th>htn</th>\n",
       "      <th>dm</th>\n",
       "      <th>cad</th>\n",
       "      <th>appet</th>\n",
       "      <th>ane</th>\n",
       "      <th>class</th>\n",
       "    </tr>\n",
       "  </thead>\n",
       "  <tbody>\n",
       "    <tr>\n",
       "      <th>0</th>\n",
       "      <td>48</td>\n",
       "      <td>70</td>\n",
       "      <td>0</td>\n",
       "      <td>117</td>\n",
       "      <td>56</td>\n",
       "      <td>6700</td>\n",
       "      <td>3.9</td>\n",
       "      <td>1</td>\n",
       "      <td>0</td>\n",
       "      <td>0</td>\n",
       "      <td>0</td>\n",
       "      <td>1</td>\n",
       "      <td>1</td>\n",
       "    </tr>\n",
       "    <tr>\n",
       "      <th>1</th>\n",
       "      <td>53</td>\n",
       "      <td>90</td>\n",
       "      <td>0</td>\n",
       "      <td>70</td>\n",
       "      <td>107</td>\n",
       "      <td>12100</td>\n",
       "      <td>3.7</td>\n",
       "      <td>1</td>\n",
       "      <td>1</td>\n",
       "      <td>0</td>\n",
       "      <td>0</td>\n",
       "      <td>1</td>\n",
       "      <td>1</td>\n",
       "    </tr>\n",
       "    <tr>\n",
       "      <th>2</th>\n",
       "      <td>63</td>\n",
       "      <td>70</td>\n",
       "      <td>0</td>\n",
       "      <td>380</td>\n",
       "      <td>60</td>\n",
       "      <td>4500</td>\n",
       "      <td>3.8</td>\n",
       "      <td>1</td>\n",
       "      <td>1</td>\n",
       "      <td>0</td>\n",
       "      <td>0</td>\n",
       "      <td>0</td>\n",
       "      <td>1</td>\n",
       "    </tr>\n",
       "    <tr>\n",
       "      <th>3</th>\n",
       "      <td>68</td>\n",
       "      <td>80</td>\n",
       "      <td>2</td>\n",
       "      <td>157</td>\n",
       "      <td>90</td>\n",
       "      <td>11000</td>\n",
       "      <td>2.6</td>\n",
       "      <td>1</td>\n",
       "      <td>1</td>\n",
       "      <td>1</td>\n",
       "      <td>0</td>\n",
       "      <td>0</td>\n",
       "      <td>1</td>\n",
       "    </tr>\n",
       "    <tr>\n",
       "      <th>4</th>\n",
       "      <td>61</td>\n",
       "      <td>80</td>\n",
       "      <td>0</td>\n",
       "      <td>173</td>\n",
       "      <td>148</td>\n",
       "      <td>9200</td>\n",
       "      <td>3.2</td>\n",
       "      <td>1</td>\n",
       "      <td>1</td>\n",
       "      <td>1</td>\n",
       "      <td>0</td>\n",
       "      <td>1</td>\n",
       "      <td>1</td>\n",
       "    </tr>\n",
       "    <tr>\n",
       "      <th>5</th>\n",
       "      <td>48</td>\n",
       "      <td>80</td>\n",
       "      <td>0</td>\n",
       "      <td>95</td>\n",
       "      <td>163</td>\n",
       "      <td>6900</td>\n",
       "      <td>3.4</td>\n",
       "      <td>1</td>\n",
       "      <td>0</td>\n",
       "      <td>0</td>\n",
       "      <td>1</td>\n",
       "      <td>1</td>\n",
       "      <td>1</td>\n",
       "    </tr>\n",
       "    <tr>\n",
       "      <th>6</th>\n",
       "      <td>69</td>\n",
       "      <td>70</td>\n",
       "      <td>4</td>\n",
       "      <td>264</td>\n",
       "      <td>87</td>\n",
       "      <td>9600</td>\n",
       "      <td>4.1</td>\n",
       "      <td>1</td>\n",
       "      <td>1</td>\n",
       "      <td>1</td>\n",
       "      <td>1</td>\n",
       "      <td>0</td>\n",
       "      <td>1</td>\n",
       "    </tr>\n",
       "    <tr>\n",
       "      <th>7</th>\n",
       "      <td>73</td>\n",
       "      <td>70</td>\n",
       "      <td>0</td>\n",
       "      <td>70</td>\n",
       "      <td>32</td>\n",
       "      <td>18900</td>\n",
       "      <td>3.5</td>\n",
       "      <td>1</td>\n",
       "      <td>1</td>\n",
       "      <td>0</td>\n",
       "      <td>1</td>\n",
       "      <td>0</td>\n",
       "      <td>1</td>\n",
       "    </tr>\n",
       "    <tr>\n",
       "      <th>8</th>\n",
       "      <td>73</td>\n",
       "      <td>80</td>\n",
       "      <td>0</td>\n",
       "      <td>253</td>\n",
       "      <td>142</td>\n",
       "      <td>7200</td>\n",
       "      <td>4.3</td>\n",
       "      <td>1</td>\n",
       "      <td>1</td>\n",
       "      <td>1</td>\n",
       "      <td>1</td>\n",
       "      <td>0</td>\n",
       "      <td>1</td>\n",
       "    </tr>\n",
       "    <tr>\n",
       "      <th>9</th>\n",
       "      <td>46</td>\n",
       "      <td>60</td>\n",
       "      <td>0</td>\n",
       "      <td>163</td>\n",
       "      <td>92</td>\n",
       "      <td>14600</td>\n",
       "      <td>3.2</td>\n",
       "      <td>1</td>\n",
       "      <td>1</td>\n",
       "      <td>0</td>\n",
       "      <td>1</td>\n",
       "      <td>0</td>\n",
       "      <td>1</td>\n",
       "    </tr>\n",
       "  </tbody>\n",
       "</table>\n",
       "</div>"
      ],
      "text/plain": [
       "   age  bp  su  bgr   bu     wc   rc  htn  dm  cad  appet  ane  class\n",
       "0   48  70   0  117   56   6700  3.9    1   0    0      0    1      1\n",
       "1   53  90   0   70  107  12100  3.7    1   1    0      0    1      1\n",
       "2   63  70   0  380   60   4500  3.8    1   1    0      0    0      1\n",
       "3   68  80   2  157   90  11000  2.6    1   1    1      0    0      1\n",
       "4   61  80   0  173  148   9200  3.2    1   1    1      0    1      1\n",
       "5   48  80   0   95  163   6900  3.4    1   0    0      1    1      1\n",
       "6   69  70   4  264   87   9600  4.1    1   1    1      1    0      1\n",
       "7   73  70   0   70   32  18900  3.5    1   1    0      1    0      1\n",
       "8   73  80   0  253  142   7200  4.3    1   1    1      1    0      1\n",
       "9   46  60   0  163   92  14600  3.2    1   1    0      1    0      1"
      ]
     },
     "execution_count": 28,
     "metadata": {},
     "output_type": "execute_result"
    }
   ],
   "source": [
    "dataset.head(10)"
   ]
  },
  {
   "cell_type": "code",
   "execution_count": 29,
   "metadata": {
    "id": "xUrQT8NtJrda"
   },
   "outputs": [],
   "source": [
    "x = dataset.iloc[:,[1,2,3,4,5,6,7,8,9,10,11,12]].values\n",
    "y = dataset.iloc[:,12].values"
   ]
  },
  {
   "cell_type": "code",
   "execution_count": 30,
   "metadata": {
    "id": "FGTmI0MEKB7b"
   },
   "outputs": [],
   "source": [
    "from sklearn.model_selection import train_test_split\n",
    "x_train,x_test,y_train,y_test = train_test_split(x,y, test_size = 0.2, random_state =0)"
   ]
  },
  {
   "cell_type": "code",
   "execution_count": 31,
   "metadata": {
    "colab": {
     "base_uri": "https://localhost:8080/"
    },
    "id": "alr-j1-uLxE8",
    "outputId": "ef6668e5-097e-4200-a30c-5aca6b333e0a"
   },
   "outputs": [
    {
     "data": {
      "text/plain": [
       "array([[-0.10109832, -0.36361289, -0.31223331, ..., -2.70477161,\n",
       "         2.97909382,  1.63536498],\n",
       "       [ 0.22225259,  1.43172574, -0.31223331, ..., -2.70477161,\n",
       "         2.97909382,  1.63536498],\n",
       "       [ 0.8689544 , -0.36361289, -0.31223331, ..., -2.70477161,\n",
       "        -0.33567254,  1.63536498],\n",
       "       ...,\n",
       "       [-2.42922485,  0.53405643, -0.31223331, ...,  0.36971698,\n",
       "        -0.33567254, -0.6114843 ],\n",
       "       [-2.10587394, -1.2612822 , -0.31223331, ...,  0.36971698,\n",
       "        -0.33567254, -0.6114843 ],\n",
       "       [ 0.54560349,  0.53405643, -0.31223331, ...,  0.36971698,\n",
       "        -0.33567254, -0.6114843 ]])"
      ]
     },
     "execution_count": 31,
     "metadata": {},
     "output_type": "execute_result"
    }
   ],
   "source": [
    "from sklearn.preprocessing import MinMaxScaler \n",
    "from sklearn.preprocessing import StandardScaler \n",
    "scaler=StandardScaler()\n",
    "scaler.fit(dataset) \n",
    "scaled_data=scaler.transform(dataset) \n",
    "scaled_data"
   ]
  },
  {
   "cell_type": "code",
   "execution_count": 32,
   "metadata": {
    "id": "bDRJAFzVMGP4"
   },
   "outputs": [],
   "source": [
    "from sklearn.decomposition import PCA \n",
    "\n",
    "pca=PCA(n_components=12) \n",
    "\n",
    "pca.fit(scaled_data) \n",
    "x_pca=pca.transform(scaled_data)"
   ]
  },
  {
   "cell_type": "code",
   "execution_count": 33,
   "metadata": {
    "colab": {
     "base_uri": "https://localhost:8080/"
    },
    "id": "h3ii-8W4MPAh",
    "outputId": "406572a9-ac01-4fe7-d054-a8df3bca8d78"
   },
   "outputs": [
    {
     "data": {
      "text/plain": [
       "(158, 13)"
      ]
     },
     "execution_count": 33,
     "metadata": {},
     "output_type": "execute_result"
    }
   ],
   "source": [
    "scaled_data.shape "
   ]
  },
  {
   "cell_type": "code",
   "execution_count": 34,
   "metadata": {
    "colab": {
     "base_uri": "https://localhost:8080/"
    },
    "id": "Lzbxme4cMUPT",
    "outputId": "abbfe3a8-23ae-46b6-8011-ef060c5ae1af"
   },
   "outputs": [
    {
     "data": {
      "text/plain": [
       "(158, 12)"
      ]
     },
     "execution_count": 34,
     "metadata": {},
     "output_type": "execute_result"
    }
   ],
   "source": [
    "x_pca.shape"
   ]
  },
  {
   "cell_type": "code",
   "execution_count": 35,
   "metadata": {
    "colab": {
     "base_uri": "https://localhost:8080/"
    },
    "id": "l2uncfh2MaBz",
    "outputId": "88864553-14ca-4dd8-8ccb-042d7ed0d859"
   },
   "outputs": [
    {
     "name": "stdout",
     "output_type": "stream",
     "text": [
      "[1 1 1 1 1 1 1 1 1 1 1 1 1 1 1 1 1 1 1 1 1 1 1 1 1 1 1 1 1 1 1 1 1 1 1 1 1\n",
      " 1 1 1 1 1 1 0 0 0 0 0 0 0 0 0 0 0 0 0 0 0 0 0 0 0 0 0 0 0 0 0 0 0 0 0 0 0\n",
      " 0 0 0 0 0 0 0 0 0 0 0 0 0 0 0 0 0 0 0 0 0 0 0 0 0 0 0 0 0 0 0 0 0 0 0 0 0\n",
      " 0 0 0 0 0 0 0 0 0 0 0 0 0 0 0 0 0 0 0 0 0 0 0 0 0 0 0 0 0 0 0 0 0 0 0 0 0\n",
      " 0 0 0 0 0 0 0 0 0 0]\n"
     ]
    }
   ],
   "source": [
    "from sklearn.model_selection import train_test_split \n",
    "print (y)\n",
    "x_train, x_test, y_train, y_test = train_test_split(x, y, test_size = 0.2, random_state = 0)"
   ]
  },
  {
   "cell_type": "code",
   "execution_count": 36,
   "metadata": {
    "colab": {
     "base_uri": "https://localhost:8080/"
    },
    "id": "Cvq4Sj0uMwFI",
    "outputId": "f20ea313-0be9-4735-8bac-e90342c0a95d"
   },
   "outputs": [
    {
     "name": "stdout",
     "output_type": "stream",
     "text": [
      "79.75% in training set\n",
      "20.25% in test set\n"
     ]
    }
   ],
   "source": [
    "trainval = (1.0 * len(x_train)) / (1.0 * len(dataset.index))\n",
    "testval = (1.0 * len(x_test)) / (1.0 * len(dataset.index))\n",
    "print(\"{0:0.2f}% in training set\".format(trainval * 100))\n",
    "print(\"{0:0.2f}% in test set\".format(testval * 100))"
   ]
  },
  {
   "cell_type": "code",
   "execution_count": 37,
   "metadata": {
    "colab": {
     "base_uri": "https://localhost:8080/"
    },
    "id": "FJxnUJzKM8bo",
    "outputId": "f6de52f6-312a-4101-a974-1803f80374f0"
   },
   "outputs": [
    {
     "name": "stdout",
     "output_type": "stream",
     "text": [
      "Original True  : 43 (27.22%)\n",
      "Original False : 115 (72.78%)\n",
      "\n",
      "Training True  : 35 (27.78%)\n",
      "Training False : 91 (72.22%)\n",
      "\n",
      "Test True      : 8 (25.00%)\n",
      "Test False     : 24 (75.00%)\n"
     ]
    }
   ],
   "source": [
    "print(\"Original True  : {0} ({1:0.2f}%)\".format(len(dataset.loc[dataset['class'] == 1]), (len(dataset.loc[dataset['class'] == 1])/len(dataset.index)) * 100.0))\n",
    "print(\"Original False : {0} ({1:0.2f}%)\".format(len(dataset.loc[dataset['class'] == 0]), (len(dataset.loc[dataset['class'] == 0])/len(dataset.index)) * 100.0))\n",
    "print(\"\")\n",
    "print(\"Training True  : {0} ({1:0.2f}%)\".format(len(y_train[y_train[:] == 1]), (len(y_train[y_train[:] == 1])/len(y_train) * 100.0)))\n",
    "print(\"Training False : {0} ({1:0.2f}%)\".format(len(y_train[y_train[:] == 0]), (len(y_train[y_train[:] == 0])/len(y_train) * 100.0)))\n",
    "print(\"\")\n",
    "print(\"Test True      : {0} ({1:0.2f}%)\".format(len(y_test[y_test[:] == 1]), (len(y_test[y_test[:] == 1])/len(y_test) * 100.0)))\n",
    "print(\"Test False     : {0} ({1:0.2f}%)\".format(len(y_test[y_test[:] == 0]), (len(y_test[y_test[:] == 0])/len(y_test) * 100.0)))"
   ]
  },
  {
   "cell_type": "code",
   "execution_count": 38,
   "metadata": {
    "id": "Aw7d8qedNi3s"
   },
   "outputs": [],
   "source": [
    "from sklearn.preprocessing import StandardScaler  \n",
    "scaler = StandardScaler()  \n",
    "scaler.fit(x_train)\n",
    "\n",
    "x_train = scaler.transform(x_train)  \n",
    "x_test = scaler.transform(x_test)"
   ]
  },
  {
   "cell_type": "code",
   "execution_count": 39,
   "metadata": {
    "id": "C0QBKKiAN9NR"
   },
   "outputs": [],
   "source": [
    "def knn_classifier(x_train, x_test, y_train, y_test):\n",
    "   classifier_knn = KNeighborsClassifier(n_neighbors = 8,p=2,metric ='minkowski')\n",
    "   classifier_knn.fit(x_train,y_train)\n",
    "\n",
    "   y1_pred = classifier_knn.predict(x_test)\n",
    "\n",
    "   cm = confusion_matrix(y_test, y1_pred)\n",
    "\n",
    "   return print(f\"Train score : {classifier_knn.score(x_train, y_train)}\\nTest score : {classifier_knn.score(x_test, y_test)}\")"
   ]
  },
  {
   "cell_type": "code",
   "execution_count": 40,
   "metadata": {
    "id": "obgRp653OAv9"
   },
   "outputs": [],
   "source": [
    "def svm_classifier(x_train, x_test, y_train, y_test):\n",
    "    classifier_svm = SVC(kernel = 'rbf', random_state = 0)\n",
    "    classifier_svm.fit(x_train,y_train)\n",
    "\n",
    "#predicting reults\n",
    "    y2_pred = classifier_svm.predict(x_test)\n",
    "\n",
    "    cm = confusion_matrix(y_test, y2_pred)\n",
    "\n",
    "    return print(f\"Train score : {classifier_svm.score(x_train, y_train)}\\nTest score : {classifier_svm.score(x_test, y_test)}\")"
   ]
  },
  {
   "cell_type": "code",
   "execution_count": 41,
   "metadata": {
    "id": "zjD21wtqOFpP"
   },
   "outputs": [],
   "source": [
    "def forest_classifier(x_train, x_test, y_train, y_test):\n",
    "    classifier_forest = RandomForestClassifier(n_estimators=16,criterion = \"entropy\",random_state=0)\n",
    "    classifier_forest.fit(x_train,y_train)\n",
    "\n",
    "#predicting reults\n",
    "    y3_pred = classifier_forest.predict(x_test)\n",
    "\n",
    "    cm = confusion_matrix(y_test, y3_pred)\n",
    "\n",
    "    return print(f\"Train score : {classifier_forest.score(x_train, y_train)}\\nTest score : {classifier_forest.score(x_test, y_test)}\")"
   ]
  },
  {
   "cell_type": "code",
   "execution_count": 42,
   "metadata": {
    "id": "_yc89PR6OUt1"
   },
   "outputs": [],
   "source": [
    "def tree_classifier(x_train, x_test, y_train, y_test):\n",
    "    classifier_tree = DecisionTreeClassifier(criterion = \"entropy\",random_state=0)\n",
    "    classifier_tree.fit(x_train,y_train)\n",
    "\n",
    "#predicting reults\n",
    "    y4_pred = classifier_tree.predict(x_test)\n",
    "\n",
    "    cm = confusion_matrix(y_test, y4_pred)\n",
    "\n",
    "    return print(f\"Train score : {classifier_tree.score(x_train, y_train)}\\nTest score : {classifier_tree.score(x_test, y_test)}\")"
   ]
  },
  {
   "cell_type": "code",
   "execution_count": 43,
   "metadata": {
    "id": "xbUDQ1t1OYM5"
   },
   "outputs": [],
   "source": [
    "def logistic_regression (x_train,x_test,y_train,y_test):\n",
    "    regression1 = LogisticRegression(C=0.7, random_state=50)\n",
    "    regression1.fit(x_train, y_train)\n",
    "\n",
    "    y5_pred = regression1.predict(x_test)\n",
    "\n",
    "    cm = confusion_matrix(y_test, y5_pred)\n",
    "\n",
    "    return print(f\"Train score : {regression1.score(x_train, y_train)}\\nTest score : {regression1.score(x_test, y_test)}\")"
   ]
  },
  {
   "cell_type": "code",
   "execution_count": 44,
   "metadata": {
    "id": "kLtTGQ8QOhPy"
   },
   "outputs": [],
   "source": [
    "def print_score(x_train, x_test, y_train, y_test):\n",
    "    print(\"KNN:\\n\")\n",
    "    knn_classifier(x_train, x_test, y_train, y_test)\n",
    "\n",
    "    print(\"-\"*100)\n",
    "    print()\n",
    "\n",
    "    print(\"SVM:\\n\")\n",
    "    svm_classifier(x_train, x_test, y_train, y_test)\n",
    "\n",
    "    print(\"-\"*100)\n",
    "    print()\n",
    "\n",
    "    print(\"Random Forest:\\n\")\n",
    "    forest_classifier(x_train, x_test, y_train, y_test)\n",
    "    \n",
    "    print(\"-\"*100)\n",
    "    print()\n",
    "   \n",
    "    print(\"Decision Tree:\\n\")\n",
    "    tree_classifier(x_train, x_test, y_train, y_test)\n",
    "\n",
    "    print(\"-\"*100)\n",
    "    print()\n",
    "\n",
    "    print(\"logistic Regression:\\n\")\n",
    "    logistic_regression(x_train, x_test, y_train, y_test)\n",
    "\n",
    "    print(\"-\"*100)\n",
    "    print()"
   ]
  },
  {
   "cell_type": "code",
   "execution_count": 45,
   "metadata": {
    "colab": {
     "base_uri": "https://localhost:8080/"
    },
    "id": "ZTzfvNrhPHjA",
    "outputId": "f60aa494-88b8-4382-ca8c-5acf3200c1e8"
   },
   "outputs": [
    {
     "name": "stdout",
     "output_type": "stream",
     "text": [
      "KNN:\n",
      "\n",
      "Train score : 0.9444444444444444\n",
      "Test score : 1.0\n",
      "----------------------------------------------------------------------------------------------------\n",
      "\n",
      "SVM:\n",
      "\n",
      "Train score : 1.0\n",
      "Test score : 1.0\n",
      "----------------------------------------------------------------------------------------------------\n",
      "\n",
      "Random Forest:\n",
      "\n",
      "Train score : 1.0\n",
      "Test score : 1.0\n",
      "----------------------------------------------------------------------------------------------------\n",
      "\n",
      "Decision Tree:\n",
      "\n",
      "Train score : 1.0\n",
      "Test score : 1.0\n",
      "----------------------------------------------------------------------------------------------------\n",
      "\n",
      "logistic Regression:\n",
      "\n",
      "Train score : 1.0\n",
      "Test score : 1.0\n",
      "----------------------------------------------------------------------------------------------------\n",
      "\n"
     ]
    }
   ],
   "source": [
    "print_score(x_train, x_test, y_train, y_test)"
   ]
  },
  {
   "cell_type": "code",
   "execution_count": 46,
   "metadata": {
    "colab": {
     "base_uri": "https://localhost:8080/"
    },
    "id": "1Yu7FXl-zzp0",
    "outputId": "e412b2db-0225-4a7e-94ac-7fc265460e9d"
   },
   "outputs": [
    {
     "name": "stdout",
     "output_type": "stream",
     "text": [
      "[[24  0]\n",
      " [ 0  8]]\n"
     ]
    }
   ],
   "source": [
    "classifier_forest = RandomForestClassifier(criterion = 'entropy')\n",
    "classifier_forest.fit(x_train, y_train)\n",
    "y_pred = classifier_forest.predict(x_test)\n",
    "\n",
    "cm = confusion_matrix(y_test, y_pred)\n",
    "cm\n",
    "print(cm)"
   ]
  },
  {
   "cell_type": "code",
   "execution_count": 47,
   "metadata": {
    "id": "j5q4OAKP0xoA"
   },
   "outputs": [],
   "source": [
    "filename = 'kidney.pkl'\n",
    "pickle.dump(classifier_forest, open(filename, 'wb')) "
   ]
  },
  {
   "cell_type": "code",
   "execution_count": 48,
   "metadata": {
    "id": "HW7JsyFW1FEe"
   },
   "outputs": [],
   "source": [
    "\n",
    "#model = open('kidney.pkl','rb')\n",
    "#forest = pickle.load(model) "
   ]
  },
  {
   "cell_type": "code",
   "execution_count": 49,
   "metadata": {
    "id": "cntUkXpf1MLZ"
   },
   "outputs": [],
   "source": [
    "#y_pred = forest.predict(x_test) "
   ]
  },
  {
   "cell_type": "code",
   "execution_count": 50,
   "metadata": {
    "id": "lX35B3BM1RP_"
   },
   "outputs": [],
   "source": [
    "#confusion_matrix(y_test, y_pred) "
   ]
  }
 ],
 "metadata": {
  "colab": {
   "name": "Kidney_Bhavana.ipynb",
   "provenance": []
  },
  "kernelspec": {
   "display_name": "Python 3",
   "language": "python",
   "name": "python3"
  },
  "language_info": {
   "codemirror_mode": {
    "name": "ipython",
    "version": 3
   },
   "file_extension": ".py",
   "mimetype": "text/x-python",
   "name": "python",
   "nbconvert_exporter": "python",
   "pygments_lexer": "ipython3",
   "version": "3.7.6"
  }
 },
 "nbformat": 4,
 "nbformat_minor": 1
}
